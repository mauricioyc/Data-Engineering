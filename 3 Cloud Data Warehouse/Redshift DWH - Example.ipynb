{
 "cells": [
  {
   "cell_type": "markdown",
   "metadata": {},
   "source": [
    "# Create Cluster and Role"
   ]
  },
  {
   "cell_type": "code",
   "execution_count": 2,
   "metadata": {},
   "outputs": [],
   "source": [
    "from create_cluster import ConfigureRedshift\n",
    "%load_ext autoreload\n",
    "%autoreload 2\n",
    "\n",
    "import logging\n",
    "logging.basicConfig(level=logging.INFO)\n",
    "\n",
    "# Reads config to create cluster and IAM Role\n",
    "configurer = ConfigureRedshift(\"./aws.cfg\")"
   ]
  },
  {
   "cell_type": "code",
   "execution_count": 2,
   "metadata": {},
   "outputs": [
    {
     "name": "stderr",
     "output_type": "stream",
     "text": [
      "INFO:spam.auxiliary.ConfigureRedshift:1.1 Creating a new IAM Role\n",
      "INFO:spam.auxiliary.ConfigureRedshift:1.2 Attaching Policy\n",
      "INFO:spam.auxiliary.ConfigureRedshift:1.3 Get the IAM role ARN\n"
     ]
    }
   ],
   "source": [
    "# create role\n",
    "arn = configurer.create_role()"
   ]
  },
  {
   "cell_type": "code",
   "execution_count": 3,
   "metadata": {},
   "outputs": [
    {
     "name": "stderr",
     "output_type": "stream",
     "text": [
      "INFO:spam.auxiliary.ConfigureRedshift:CREATE CLUSTER\n"
     ]
    }
   ],
   "source": [
    "# create cluster\n",
    "custer_response = configurer.create_redshift_cluster()"
   ]
  },
  {
   "cell_type": "code",
   "execution_count": 3,
   "metadata": {},
   "outputs": [
    {
     "data": {
      "text/html": [
       "<div>\n",
       "<style scoped>\n",
       "    .dataframe tbody tr th:only-of-type {\n",
       "        vertical-align: middle;\n",
       "    }\n",
       "\n",
       "    .dataframe tbody tr th {\n",
       "        vertical-align: top;\n",
       "    }\n",
       "\n",
       "    .dataframe thead th {\n",
       "        text-align: right;\n",
       "    }\n",
       "</style>\n",
       "<table border=\"1\" class=\"dataframe\">\n",
       "  <thead>\n",
       "    <tr style=\"text-align: right;\">\n",
       "      <th></th>\n",
       "      <th>Key</th>\n",
       "      <th>Value</th>\n",
       "    </tr>\n",
       "  </thead>\n",
       "  <tbody>\n",
       "    <tr>\n",
       "      <th>0</th>\n",
       "      <td>ClusterIdentifier</td>\n",
       "      <td>dwhcluster</td>\n",
       "    </tr>\n",
       "    <tr>\n",
       "      <th>1</th>\n",
       "      <td>NodeType</td>\n",
       "      <td>dc2.large</td>\n",
       "    </tr>\n",
       "    <tr>\n",
       "      <th>2</th>\n",
       "      <td>ClusterStatus</td>\n",
       "      <td>available</td>\n",
       "    </tr>\n",
       "    <tr>\n",
       "      <th>3</th>\n",
       "      <td>MasterUsername</td>\n",
       "      <td>dwhuser</td>\n",
       "    </tr>\n",
       "    <tr>\n",
       "      <th>4</th>\n",
       "      <td>DBName</td>\n",
       "      <td>dwh</td>\n",
       "    </tr>\n",
       "    <tr>\n",
       "      <th>5</th>\n",
       "      <td>Endpoint</td>\n",
       "      <td>{'Address': 'dwhcluster.cakoxduzammt.us-west-2.redshift.amazonaws.com', 'Port': 5439}</td>\n",
       "    </tr>\n",
       "    <tr>\n",
       "      <th>6</th>\n",
       "      <td>VpcId</td>\n",
       "      <td>vpc-07ac452326e3d6af5</td>\n",
       "    </tr>\n",
       "    <tr>\n",
       "      <th>7</th>\n",
       "      <td>NumberOfNodes</td>\n",
       "      <td>2</td>\n",
       "    </tr>\n",
       "  </tbody>\n",
       "</table>\n",
       "</div>"
      ],
      "text/plain": [
       "                 Key  \\\n",
       "0  ClusterIdentifier   \n",
       "1           NodeType   \n",
       "2      ClusterStatus   \n",
       "3     MasterUsername   \n",
       "4             DBName   \n",
       "5           Endpoint   \n",
       "6              VpcId   \n",
       "7      NumberOfNodes   \n",
       "\n",
       "                                                                                   Value  \n",
       "0                                                                             dwhcluster  \n",
       "1                                                                              dc2.large  \n",
       "2                                                                              available  \n",
       "3                                                                                dwhuser  \n",
       "4                                                                                    dwh  \n",
       "5  {'Address': 'dwhcluster.cakoxduzammt.us-west-2.redshift.amazonaws.com', 'Port': 5439}  \n",
       "6                                                                  vpc-07ac452326e3d6af5  \n",
       "7                                                                                      2  "
      ]
     },
     "execution_count": 3,
     "metadata": {},
     "output_type": "execute_result"
    }
   ],
   "source": [
    "# get cluster information and format it in a DataFrame\n",
    "props = configurer.get_cluster_props()\n",
    "format_props = configurer.prettyRedshiftProps(props)\n",
    "format_props"
   ]
  },
  {
   "cell_type": "code",
   "execution_count": 4,
   "metadata": {},
   "outputs": [
    {
     "name": "stderr",
     "output_type": "stream",
     "text": [
      "INFO:spam.auxiliary.ConfigureRedshift:Add TCP to Cluster\n",
      "ERROR:spam.auxiliary.ConfigureRedshift:An error occurred (InvalidPermission.Duplicate) when calling the AuthorizeSecurityGroupIngress operation: the specified rule \"peer: 0.0.0.0/0, TCP, from port: 5439, to port: 5439, ALLOW\" already exists\n"
     ]
    }
   ],
   "source": [
    "# Add TCP inbound to the redshift cluster\n",
    "configurer.create_tcp_cluster()"
   ]
  },
  {
   "cell_type": "markdown",
   "metadata": {},
   "source": [
    "# Data Quality\n",
    "\n",
    "Before executing this part, make sure to create the tables by running:\n",
    "\n",
    "```python\n",
    "python -m create_tables\n",
    "python -m etl\n",
    "```"
   ]
  },
  {
   "cell_type": "code",
   "execution_count": 5,
   "metadata": {},
   "outputs": [
    {
     "name": "stderr",
     "output_type": "stream",
     "text": [
      "INFO:root:Dropping Tables...\n",
      "INFO:root:Creating Tables...\n"
     ]
    }
   ],
   "source": [
    "!python -m create_tables"
   ]
  },
  {
   "cell_type": "code",
   "execution_count": 6,
   "metadata": {},
   "outputs": [
    {
     "name": "stderr",
     "output_type": "stream",
     "text": [
      "INFO:root:Staging Tables...\n",
      "INFO:root:Inserting Tables...\n"
     ]
    }
   ],
   "source": [
    "!python -m etl"
   ]
  },
  {
   "cell_type": "markdown",
   "metadata": {},
   "source": [
    "### Connects to Redshift"
   ]
  },
  {
   "cell_type": "code",
   "execution_count": 20,
   "metadata": {},
   "outputs": [],
   "source": [
    "import configparser\n",
    "import psycopg2\n",
    "import pandas as pd\n",
    "\n",
    "# creates config from file\n",
    "config = configparser.ConfigParser()\n",
    "config.read('dwh.cfg')\n",
    "\n",
    "# gets the important parameters to connect to the Redshift\n",
    "DWH_DB_USER = config['CLUSTER']['DB_USER']\n",
    "DWH_DB_PASSWORD = config['CLUSTER']['DB_PASSWORD']\n",
    "DWH_ENDPOINT = config['CLUSTER']['HOST']\n",
    "DWH_PORT = config['CLUSTER']['DB_PORT']\n",
    "DWH_DB = config['CLUSTER']['DB_NAME']\n",
    "\n",
    "# creates the connection to execure queries in the data warehouse\n",
    "conn = psycopg2.connect(\"host={} dbname={} user={} password={} port={}\".\n",
    "                        format(*config['CLUSTER'].values()))\n",
    "cur = conn.cursor()\n"
   ]
  },
  {
   "cell_type": "markdown",
   "metadata": {},
   "source": [
    "### Tables total Rows"
   ]
  },
  {
   "cell_type": "code",
   "execution_count": 21,
   "metadata": {},
   "outputs": [
    {
     "data": {
      "text/html": [
       "<style type=\"text/css\">\n",
       "</style>\n",
       "<table id=\"T_29d52_\">\n",
       "  <thead>\n",
       "    <tr>\n",
       "      <th class=\"blank level0\" >&nbsp;</th>\n",
       "      <th class=\"col_heading level0 col0\" >staging_events</th>\n",
       "      <th class=\"col_heading level0 col1\" >staging_songs</th>\n",
       "      <th class=\"col_heading level0 col2\" >songplay</th>\n",
       "      <th class=\"col_heading level0 col3\" >users</th>\n",
       "      <th class=\"col_heading level0 col4\" >songs</th>\n",
       "      <th class=\"col_heading level0 col5\" >artists</th>\n",
       "      <th class=\"col_heading level0 col6\" >time</th>\n",
       "    </tr>\n",
       "  </thead>\n",
       "  <tbody>\n",
       "    <tr>\n",
       "      <th id=\"T_29d52_level0_row0\" class=\"row_heading level0 row0\" >0</th>\n",
       "      <td id=\"T_29d52_row0_col0\" class=\"data row0 col0\" >8_056</td>\n",
       "      <td id=\"T_29d52_row0_col1\" class=\"data row0 col1\" >14_896</td>\n",
       "      <td id=\"T_29d52_row0_col2\" class=\"data row0 col2\" >319</td>\n",
       "      <td id=\"T_29d52_row0_col3\" class=\"data row0 col3\" >105</td>\n",
       "      <td id=\"T_29d52_row0_col4\" class=\"data row0 col4\" >14_896</td>\n",
       "      <td id=\"T_29d52_row0_col5\" class=\"data row0 col5\" >10_025</td>\n",
       "      <td id=\"T_29d52_row0_col6\" class=\"data row0 col6\" >8_023</td>\n",
       "    </tr>\n",
       "  </tbody>\n",
       "</table>\n"
      ],
      "text/plain": [
       "<pandas.io.formats.style.Styler at 0x25fe7bec2b0>"
      ]
     },
     "execution_count": 21,
     "metadata": {},
     "output_type": "execute_result"
    }
   ],
   "source": [
    "\n",
    "# list of all tables in the dwh\n",
    "tables = [\"staging_events\", \"staging_songs\", \"songplay\",\n",
    "          \"users\", \"songs\", \"artists\", \"time\"]\n",
    "\n",
    "# count of each table in the dwh\n",
    "df = pd.DataFrame()\n",
    "for table in tables:\n",
    "    query = f\"\"\"SELECT count(*) FROM {table}\"\"\"\n",
    "    count = pd.read_sql(query, conn)\n",
    "    df[table] = [count.iloc[0].values[0]]\n",
    "\n",
    "df.style.format(\"{:_}\".format)\n"
   ]
  },
  {
   "cell_type": "markdown",
   "metadata": {},
   "source": [
    "### Table Duplicates\n",
    "\n",
    "Since the tables do not have many rows, it is possible to select all columns and analyse"
   ]
  },
  {
   "cell_type": "code",
   "execution_count": 22,
   "metadata": {},
   "outputs": [
    {
     "name": "stdout",
     "output_type": "stream",
     "text": [
      "songplay\n",
      "users\n",
      "songs\n",
      "artists\n",
      "time\n"
     ]
    },
    {
     "data": {
      "text/html": [
       "<style type=\"text/css\">\n",
       "</style>\n",
       "<table id=\"T_49bfe_\">\n",
       "  <thead>\n",
       "    <tr>\n",
       "      <th class=\"blank level0\" >&nbsp;</th>\n",
       "      <th class=\"col_heading level0 col0\" >songplay</th>\n",
       "      <th class=\"col_heading level0 col1\" >users</th>\n",
       "      <th class=\"col_heading level0 col2\" >songs</th>\n",
       "      <th class=\"col_heading level0 col3\" >artists</th>\n",
       "      <th class=\"col_heading level0 col4\" >time</th>\n",
       "    </tr>\n",
       "  </thead>\n",
       "  <tbody>\n",
       "    <tr>\n",
       "      <th id=\"T_49bfe_level0_row0\" class=\"row_heading level0 row0\" >0</th>\n",
       "      <td id=\"T_49bfe_row0_col0\" class=\"data row0 col0\" >0</td>\n",
       "      <td id=\"T_49bfe_row0_col1\" class=\"data row0 col1\" >0</td>\n",
       "      <td id=\"T_49bfe_row0_col2\" class=\"data row0 col2\" >0</td>\n",
       "      <td id=\"T_49bfe_row0_col3\" class=\"data row0 col3\" >0</td>\n",
       "      <td id=\"T_49bfe_row0_col4\" class=\"data row0 col4\" >0</td>\n",
       "    </tr>\n",
       "  </tbody>\n",
       "</table>\n"
      ],
      "text/plain": [
       "<pandas.io.formats.style.Styler at 0x25ff402bc70>"
      ]
     },
     "execution_count": 22,
     "metadata": {},
     "output_type": "execute_result"
    }
   ],
   "source": [
    "tables = [\"songplay\", \"users\", \"songs\", \"artists\", \"time\"]\n",
    "\n",
    "# number of duplicated rows in each table\n",
    "df = pd.DataFrame()\n",
    "for table in tables:\n",
    "    print(table)\n",
    "    query = f\"\"\"SELECT * FROM {table}\"\"\"\n",
    "    count = pd.read_sql(query, conn)\n",
    "    df[table] = [count.duplicated().sum()]\n",
    "\n",
    "df.style.format(\"{:_}\".format)"
   ]
  },
  {
   "cell_type": "markdown",
   "metadata": {},
   "source": [
    "### Tables sample"
   ]
  },
  {
   "cell_type": "code",
   "execution_count": 23,
   "metadata": {},
   "outputs": [
    {
     "data": {
      "text/html": [
       "<div>\n",
       "<style scoped>\n",
       "    .dataframe tbody tr th:only-of-type {\n",
       "        vertical-align: middle;\n",
       "    }\n",
       "\n",
       "    .dataframe tbody tr th {\n",
       "        vertical-align: top;\n",
       "    }\n",
       "\n",
       "    .dataframe thead th {\n",
       "        text-align: right;\n",
       "    }\n",
       "</style>\n",
       "<table border=\"1\" class=\"dataframe\">\n",
       "  <thead>\n",
       "    <tr style=\"text-align: right;\">\n",
       "      <th></th>\n",
       "      <th>songplay_id</th>\n",
       "      <th>start_time</th>\n",
       "      <th>user_id</th>\n",
       "      <th>level</th>\n",
       "      <th>song_id</th>\n",
       "      <th>artist_id</th>\n",
       "      <th>session_id</th>\n",
       "      <th>location</th>\n",
       "      <th>user_agent</th>\n",
       "    </tr>\n",
       "  </thead>\n",
       "  <tbody>\n",
       "    <tr>\n",
       "      <th>0</th>\n",
       "      <td>124</td>\n",
       "      <td>2018-11-01 21:11:13.796</td>\n",
       "      <td>8</td>\n",
       "      <td>free</td>\n",
       "      <td>SOEIQUY12AF72A086A</td>\n",
       "      <td>ARHUC691187B9AD27F</td>\n",
       "      <td>139</td>\n",
       "      <td>Phoenix-Mesa-Scottsdale, AZ</td>\n",
       "      <td>\"Mozilla/5.0 (Windows NT 6.1; WOW64) AppleWebKit/537.36 (KHTML, like Gecko) Chrome/35.0.1916.153 Safari/537.36\"</td>\n",
       "    </tr>\n",
       "    <tr>\n",
       "      <th>1</th>\n",
       "      <td>224</td>\n",
       "      <td>2018-11-02 16:35:00.796</td>\n",
       "      <td>50</td>\n",
       "      <td>free</td>\n",
       "      <td>SOBONKR12A58A7A7E0</td>\n",
       "      <td>AR5E44Z1187B9A1D74</td>\n",
       "      <td>156</td>\n",
       "      <td>New Haven-Milford, CT</td>\n",
       "      <td>\"Mozilla/5.0 (Windows NT 6.3; WOW64) AppleWebKit/537.36 (KHTML, like Gecko) Chrome/36.0.1985.143 Safari/537.36\"</td>\n",
       "    </tr>\n",
       "    <tr>\n",
       "      <th>2</th>\n",
       "      <td>259</td>\n",
       "      <td>2018-11-03 01:12:26.796</td>\n",
       "      <td>53</td>\n",
       "      <td>free</td>\n",
       "      <td>SOSELMV12A6D4FCF5A</td>\n",
       "      <td>ARWD25M1187FB4C563</td>\n",
       "      <td>52</td>\n",
       "      <td>Klamath Falls, OR</td>\n",
       "      <td>\"Mozilla/5.0 (Windows NT 6.1; WOW64) AppleWebKit/537.36 (KHTML, like Gecko) Chrome/37.0.2062.103 Safari/537.36\"</td>\n",
       "    </tr>\n",
       "    <tr>\n",
       "      <th>3</th>\n",
       "      <td>6</td>\n",
       "      <td>2018-11-04 16:25:54.796</td>\n",
       "      <td>69</td>\n",
       "      <td>free</td>\n",
       "      <td>SOARUPP12AB01842E0</td>\n",
       "      <td>ARD46C811C8A414F3F</td>\n",
       "      <td>235</td>\n",
       "      <td>Philadelphia-Camden-Wilmington, PA-NJ-DE-MD</td>\n",
       "      <td>\"Mozilla/5.0 (Macintosh; Intel Mac OS X 10_9_4) AppleWebKit/537.36 (KHTML, like Gecko) Chrome/36.0.1985.125 Safari/537.36\"</td>\n",
       "    </tr>\n",
       "    <tr>\n",
       "      <th>4</th>\n",
       "      <td>172</td>\n",
       "      <td>2018-11-04 19:35:15.796</td>\n",
       "      <td>73</td>\n",
       "      <td>paid</td>\n",
       "      <td>SOULTKQ12AB018A183</td>\n",
       "      <td>ARKQQZA12086C116FC</td>\n",
       "      <td>72</td>\n",
       "      <td>Tampa-St. Petersburg-Clearwater, FL</td>\n",
       "      <td>\"Mozilla/5.0 (Macintosh; Intel Mac OS X 10_9_4) AppleWebKit/537.78.2 (KHTML, like Gecko) Version/7.0.6 Safari/537.78.2\"</td>\n",
       "    </tr>\n",
       "  </tbody>\n",
       "</table>\n",
       "</div>"
      ],
      "text/plain": [
       "   songplay_id              start_time  user_id level             song_id  \\\n",
       "0          124 2018-11-01 21:11:13.796        8  free  SOEIQUY12AF72A086A   \n",
       "1          224 2018-11-02 16:35:00.796       50  free  SOBONKR12A58A7A7E0   \n",
       "2          259 2018-11-03 01:12:26.796       53  free  SOSELMV12A6D4FCF5A   \n",
       "3            6 2018-11-04 16:25:54.796       69  free  SOARUPP12AB01842E0   \n",
       "4          172 2018-11-04 19:35:15.796       73  paid  SOULTKQ12AB018A183   \n",
       "\n",
       "            artist_id  session_id  \\\n",
       "0  ARHUC691187B9AD27F         139   \n",
       "1  AR5E44Z1187B9A1D74         156   \n",
       "2  ARWD25M1187FB4C563          52   \n",
       "3  ARD46C811C8A414F3F         235   \n",
       "4  ARKQQZA12086C116FC          72   \n",
       "\n",
       "                                      location  \\\n",
       "0                  Phoenix-Mesa-Scottsdale, AZ   \n",
       "1                        New Haven-Milford, CT   \n",
       "2                            Klamath Falls, OR   \n",
       "3  Philadelphia-Camden-Wilmington, PA-NJ-DE-MD   \n",
       "4          Tampa-St. Petersburg-Clearwater, FL   \n",
       "\n",
       "                                                                                                                   user_agent  \n",
       "0             \"Mozilla/5.0 (Windows NT 6.1; WOW64) AppleWebKit/537.36 (KHTML, like Gecko) Chrome/35.0.1916.153 Safari/537.36\"  \n",
       "1             \"Mozilla/5.0 (Windows NT 6.3; WOW64) AppleWebKit/537.36 (KHTML, like Gecko) Chrome/36.0.1985.143 Safari/537.36\"  \n",
       "2             \"Mozilla/5.0 (Windows NT 6.1; WOW64) AppleWebKit/537.36 (KHTML, like Gecko) Chrome/37.0.2062.103 Safari/537.36\"  \n",
       "3  \"Mozilla/5.0 (Macintosh; Intel Mac OS X 10_9_4) AppleWebKit/537.36 (KHTML, like Gecko) Chrome/36.0.1985.125 Safari/537.36\"  \n",
       "4     \"Mozilla/5.0 (Macintosh; Intel Mac OS X 10_9_4) AppleWebKit/537.78.2 (KHTML, like Gecko) Version/7.0.6 Safari/537.78.2\"  "
      ]
     },
     "execution_count": 23,
     "metadata": {},
     "output_type": "execute_result"
    }
   ],
   "source": [
    "# songplay 5 rows sample\n",
    "df = pd.read_sql(\"\"\"SELECT * FROM songplay LIMIT 5;\"\"\", conn)\n",
    "df"
   ]
  },
  {
   "cell_type": "code",
   "execution_count": 24,
   "metadata": {},
   "outputs": [
    {
     "data": {
      "text/html": [
       "<div>\n",
       "<style scoped>\n",
       "    .dataframe tbody tr th:only-of-type {\n",
       "        vertical-align: middle;\n",
       "    }\n",
       "\n",
       "    .dataframe tbody tr th {\n",
       "        vertical-align: top;\n",
       "    }\n",
       "\n",
       "    .dataframe thead th {\n",
       "        text-align: right;\n",
       "    }\n",
       "</style>\n",
       "<table border=\"1\" class=\"dataframe\">\n",
       "  <thead>\n",
       "    <tr style=\"text-align: right;\">\n",
       "      <th></th>\n",
       "      <th>user_id</th>\n",
       "      <th>first_name</th>\n",
       "      <th>last_name</th>\n",
       "      <th>gender</th>\n",
       "      <th>level</th>\n",
       "    </tr>\n",
       "  </thead>\n",
       "  <tbody>\n",
       "    <tr>\n",
       "      <th>0</th>\n",
       "      <td>10</td>\n",
       "      <td>Sylvie</td>\n",
       "      <td>Cruz</td>\n",
       "      <td>F</td>\n",
       "      <td>free</td>\n",
       "    </tr>\n",
       "    <tr>\n",
       "      <th>1</th>\n",
       "      <td>95</td>\n",
       "      <td>Sara</td>\n",
       "      <td>Johnson</td>\n",
       "      <td>F</td>\n",
       "      <td>paid</td>\n",
       "    </tr>\n",
       "    <tr>\n",
       "      <th>2</th>\n",
       "      <td>54</td>\n",
       "      <td>Kaleb</td>\n",
       "      <td>Cook</td>\n",
       "      <td>M</td>\n",
       "      <td>free</td>\n",
       "    </tr>\n",
       "    <tr>\n",
       "      <th>3</th>\n",
       "      <td>37</td>\n",
       "      <td>Jordan</td>\n",
       "      <td>Hicks</td>\n",
       "      <td>F</td>\n",
       "      <td>free</td>\n",
       "    </tr>\n",
       "    <tr>\n",
       "      <th>4</th>\n",
       "      <td>16</td>\n",
       "      <td>Rylan</td>\n",
       "      <td>George</td>\n",
       "      <td>M</td>\n",
       "      <td>free</td>\n",
       "    </tr>\n",
       "  </tbody>\n",
       "</table>\n",
       "</div>"
      ],
      "text/plain": [
       "   user_id first_name last_name gender level\n",
       "0       10     Sylvie      Cruz      F  free\n",
       "1       95       Sara   Johnson      F  paid\n",
       "2       54      Kaleb      Cook      M  free\n",
       "3       37     Jordan     Hicks      F  free\n",
       "4       16      Rylan    George      M  free"
      ]
     },
     "execution_count": 24,
     "metadata": {},
     "output_type": "execute_result"
    }
   ],
   "source": [
    "# users 5 rows sample\n",
    "df = pd.read_sql(\"\"\"SELECT * FROM users LIMIT 5;\"\"\", conn)\n",
    "df"
   ]
  },
  {
   "cell_type": "code",
   "execution_count": 25,
   "metadata": {},
   "outputs": [
    {
     "data": {
      "text/html": [
       "<div>\n",
       "<style scoped>\n",
       "    .dataframe tbody tr th:only-of-type {\n",
       "        vertical-align: middle;\n",
       "    }\n",
       "\n",
       "    .dataframe tbody tr th {\n",
       "        vertical-align: top;\n",
       "    }\n",
       "\n",
       "    .dataframe thead th {\n",
       "        text-align: right;\n",
       "    }\n",
       "</style>\n",
       "<table border=\"1\" class=\"dataframe\">\n",
       "  <thead>\n",
       "    <tr style=\"text-align: right;\">\n",
       "      <th></th>\n",
       "      <th>song_id</th>\n",
       "      <th>title</th>\n",
       "      <th>artist_id</th>\n",
       "      <th>year</th>\n",
       "      <th>duration</th>\n",
       "    </tr>\n",
       "  </thead>\n",
       "  <tbody>\n",
       "    <tr>\n",
       "      <th>0</th>\n",
       "      <td>SOAPERH12A58A787DC</td>\n",
       "      <td>The One And Only (Edited)</td>\n",
       "      <td>ARZ5H0P1187B98A1DD</td>\n",
       "      <td>0</td>\n",
       "      <td>230.42567</td>\n",
       "    </tr>\n",
       "    <tr>\n",
       "      <th>1</th>\n",
       "      <td>SOUJRGA12A6310EC37</td>\n",
       "      <td>Bad Omen (24-Bit Digitally Remastered 04) ()</td>\n",
       "      <td>AR98JLC1187B9ADE23</td>\n",
       "      <td>0</td>\n",
       "      <td>243.06893</td>\n",
       "    </tr>\n",
       "    <tr>\n",
       "      <th>2</th>\n",
       "      <td>SOIOVAN12AAF3B50A7</td>\n",
       "      <td>Maronna Nera</td>\n",
       "      <td>ARHEOP21187B99AEF6</td>\n",
       "      <td>0</td>\n",
       "      <td>205.32200</td>\n",
       "    </tr>\n",
       "    <tr>\n",
       "      <th>3</th>\n",
       "      <td>SOKFMQE12A6D4F41B7</td>\n",
       "      <td>Tina (I Held You In My Arms) (1989 Digital Remaster)</td>\n",
       "      <td>AR1G6WM1187FB5C014</td>\n",
       "      <td>0</td>\n",
       "      <td>125.46567</td>\n",
       "    </tr>\n",
       "    <tr>\n",
       "      <th>4</th>\n",
       "      <td>SODMVJR12A6D4F985D</td>\n",
       "      <td>If I...</td>\n",
       "      <td>ARDI88R1187B98DAB2</td>\n",
       "      <td>0</td>\n",
       "      <td>222.92853</td>\n",
       "    </tr>\n",
       "  </tbody>\n",
       "</table>\n",
       "</div>"
      ],
      "text/plain": [
       "              song_id                                                 title  \\\n",
       "0  SOAPERH12A58A787DC                             The One And Only (Edited)   \n",
       "1  SOUJRGA12A6310EC37          Bad Omen (24-Bit Digitally Remastered 04) ()   \n",
       "2  SOIOVAN12AAF3B50A7                                          Maronna Nera   \n",
       "3  SOKFMQE12A6D4F41B7  Tina (I Held You In My Arms) (1989 Digital Remaster)   \n",
       "4  SODMVJR12A6D4F985D                                               If I...   \n",
       "\n",
       "            artist_id  year   duration  \n",
       "0  ARZ5H0P1187B98A1DD     0  230.42567  \n",
       "1  AR98JLC1187B9ADE23     0  243.06893  \n",
       "2  ARHEOP21187B99AEF6     0  205.32200  \n",
       "3  AR1G6WM1187FB5C014     0  125.46567  \n",
       "4  ARDI88R1187B98DAB2     0  222.92853  "
      ]
     },
     "execution_count": 25,
     "metadata": {},
     "output_type": "execute_result"
    }
   ],
   "source": [
    "# songs 5 rows sample\n",
    "df = pd.read_sql(\"\"\"SELECT * FROM songs LIMIT 5;\"\"\", conn)\n",
    "df"
   ]
  },
  {
   "cell_type": "code",
   "execution_count": 26,
   "metadata": {},
   "outputs": [
    {
     "data": {
      "text/html": [
       "<div>\n",
       "<style scoped>\n",
       "    .dataframe tbody tr th:only-of-type {\n",
       "        vertical-align: middle;\n",
       "    }\n",
       "\n",
       "    .dataframe tbody tr th {\n",
       "        vertical-align: top;\n",
       "    }\n",
       "\n",
       "    .dataframe thead th {\n",
       "        text-align: right;\n",
       "    }\n",
       "</style>\n",
       "<table border=\"1\" class=\"dataframe\">\n",
       "  <thead>\n",
       "    <tr style=\"text-align: right;\">\n",
       "      <th></th>\n",
       "      <th>artist_id</th>\n",
       "      <th>name</th>\n",
       "      <th>location</th>\n",
       "      <th>latitude</th>\n",
       "      <th>longitude</th>\n",
       "    </tr>\n",
       "  </thead>\n",
       "  <tbody>\n",
       "    <tr>\n",
       "      <th>0</th>\n",
       "      <td>ARTW7I31187B9A4CA9</td>\n",
       "      <td>!!!</td>\n",
       "      <td>None</td>\n",
       "      <td>NaN</td>\n",
       "      <td>NaN</td>\n",
       "    </tr>\n",
       "    <tr>\n",
       "      <th>1</th>\n",
       "      <td>AR2ZNXL1187B9B87A1</td>\n",
       "      <td>1 Giant Leap</td>\n",
       "      <td>None</td>\n",
       "      <td>NaN</td>\n",
       "      <td>NaN</td>\n",
       "    </tr>\n",
       "    <tr>\n",
       "      <th>2</th>\n",
       "      <td>AR4WA5Y1187B9AC434</td>\n",
       "      <td>1000 Homo DJs</td>\n",
       "      <td>Chicago, IL</td>\n",
       "      <td>NaN</td>\n",
       "      <td>NaN</td>\n",
       "    </tr>\n",
       "    <tr>\n",
       "      <th>3</th>\n",
       "      <td>AR9GUZF1187FB4D1BC</td>\n",
       "      <td>10000 Maniacs</td>\n",
       "      <td>Jamestown, NY</td>\n",
       "      <td>NaN</td>\n",
       "      <td>NaN</td>\n",
       "    </tr>\n",
       "    <tr>\n",
       "      <th>4</th>\n",
       "      <td>AR30QTD1187FB3DAD3</td>\n",
       "      <td>1090 Club</td>\n",
       "      <td>Billings, MT</td>\n",
       "      <td>45.0</td>\n",
       "      <td>-108.50552</td>\n",
       "    </tr>\n",
       "  </tbody>\n",
       "</table>\n",
       "</div>"
      ],
      "text/plain": [
       "            artist_id           name       location  latitude  longitude\n",
       "0  ARTW7I31187B9A4CA9            !!!           None       NaN        NaN\n",
       "1  AR2ZNXL1187B9B87A1   1 Giant Leap           None       NaN        NaN\n",
       "2  AR4WA5Y1187B9AC434  1000 Homo DJs    Chicago, IL       NaN        NaN\n",
       "3  AR9GUZF1187FB4D1BC  10000 Maniacs  Jamestown, NY       NaN        NaN\n",
       "4  AR30QTD1187FB3DAD3      1090 Club   Billings, MT      45.0 -108.50552"
      ]
     },
     "execution_count": 26,
     "metadata": {},
     "output_type": "execute_result"
    }
   ],
   "source": [
    "# artists 5 rows sample\n",
    "df = pd.read_sql(\"\"\"SELECT * FROM artists LIMIT 5;\"\"\", conn)\n",
    "df"
   ]
  },
  {
   "cell_type": "code",
   "execution_count": 27,
   "metadata": {},
   "outputs": [
    {
     "data": {
      "text/html": [
       "<div>\n",
       "<style scoped>\n",
       "    .dataframe tbody tr th:only-of-type {\n",
       "        vertical-align: middle;\n",
       "    }\n",
       "\n",
       "    .dataframe tbody tr th {\n",
       "        vertical-align: top;\n",
       "    }\n",
       "\n",
       "    .dataframe thead th {\n",
       "        text-align: right;\n",
       "    }\n",
       "</style>\n",
       "<table border=\"1\" class=\"dataframe\">\n",
       "  <thead>\n",
       "    <tr style=\"text-align: right;\">\n",
       "      <th></th>\n",
       "      <th>start_time</th>\n",
       "      <th>hour</th>\n",
       "      <th>day</th>\n",
       "      <th>week</th>\n",
       "      <th>month</th>\n",
       "      <th>year</th>\n",
       "      <th>weekday</th>\n",
       "    </tr>\n",
       "  </thead>\n",
       "  <tbody>\n",
       "    <tr>\n",
       "      <th>0</th>\n",
       "      <td>2018-11-01 20:57:10.796</td>\n",
       "      <td>20</td>\n",
       "      <td>1</td>\n",
       "      <td>44</td>\n",
       "      <td>11</td>\n",
       "      <td>2018</td>\n",
       "      <td>4</td>\n",
       "    </tr>\n",
       "    <tr>\n",
       "      <th>1</th>\n",
       "      <td>2018-11-01 21:01:46.796</td>\n",
       "      <td>21</td>\n",
       "      <td>1</td>\n",
       "      <td>44</td>\n",
       "      <td>11</td>\n",
       "      <td>2018</td>\n",
       "      <td>4</td>\n",
       "    </tr>\n",
       "    <tr>\n",
       "      <th>2</th>\n",
       "      <td>2018-11-01 21:02:12.796</td>\n",
       "      <td>21</td>\n",
       "      <td>1</td>\n",
       "      <td>44</td>\n",
       "      <td>11</td>\n",
       "      <td>2018</td>\n",
       "      <td>4</td>\n",
       "    </tr>\n",
       "    <tr>\n",
       "      <th>3</th>\n",
       "      <td>2018-11-01 21:05:52.796</td>\n",
       "      <td>21</td>\n",
       "      <td>1</td>\n",
       "      <td>44</td>\n",
       "      <td>11</td>\n",
       "      <td>2018</td>\n",
       "      <td>4</td>\n",
       "    </tr>\n",
       "    <tr>\n",
       "      <th>4</th>\n",
       "      <td>2018-11-01 21:08:16.796</td>\n",
       "      <td>21</td>\n",
       "      <td>1</td>\n",
       "      <td>44</td>\n",
       "      <td>11</td>\n",
       "      <td>2018</td>\n",
       "      <td>4</td>\n",
       "    </tr>\n",
       "  </tbody>\n",
       "</table>\n",
       "</div>"
      ],
      "text/plain": [
       "               start_time  hour  day  week  month  year  weekday\n",
       "0 2018-11-01 20:57:10.796    20    1    44     11  2018        4\n",
       "1 2018-11-01 21:01:46.796    21    1    44     11  2018        4\n",
       "2 2018-11-01 21:02:12.796    21    1    44     11  2018        4\n",
       "3 2018-11-01 21:05:52.796    21    1    44     11  2018        4\n",
       "4 2018-11-01 21:08:16.796    21    1    44     11  2018        4"
      ]
     },
     "execution_count": 27,
     "metadata": {},
     "output_type": "execute_result"
    }
   ],
   "source": [
    "# time 5 rows sample\n",
    "df = pd.read_sql(\"\"\"SELECT * FROM time LIMIT 5;\"\"\", conn)\n",
    "df"
   ]
  },
  {
   "cell_type": "markdown",
   "metadata": {},
   "source": [
    "## Analitycs Query Example"
   ]
  },
  {
   "cell_type": "code",
   "execution_count": 38,
   "metadata": {},
   "outputs": [
    {
     "data": {
      "text/html": [
       "<div>\n",
       "<style scoped>\n",
       "    .dataframe tbody tr th:only-of-type {\n",
       "        vertical-align: middle;\n",
       "    }\n",
       "\n",
       "    .dataframe tbody tr th {\n",
       "        vertical-align: top;\n",
       "    }\n",
       "\n",
       "    .dataframe thead th {\n",
       "        text-align: right;\n",
       "    }\n",
       "</style>\n",
       "<table border=\"1\" class=\"dataframe\">\n",
       "  <thead>\n",
       "    <tr style=\"text-align: right;\">\n",
       "      <th></th>\n",
       "      <th>title</th>\n",
       "      <th>song_id</th>\n",
       "      <th>artist_id</th>\n",
       "      <th>artist</th>\n",
       "      <th>year</th>\n",
       "      <th>song_length</th>\n",
       "    </tr>\n",
       "  </thead>\n",
       "  <tbody>\n",
       "    <tr>\n",
       "      <th>0</th>\n",
       "      <td>Emit Remmus (Album Version)</td>\n",
       "      <td>SONAEER12A67020459</td>\n",
       "      <td>ARE8GLF1187FB52532</td>\n",
       "      <td>Red Hot Chili Peppers</td>\n",
       "      <td>1999</td>\n",
       "      <td>240.19546</td>\n",
       "    </tr>\n",
       "    <tr>\n",
       "      <th>1</th>\n",
       "      <td>Get On Top (Album Version)</td>\n",
       "      <td>SOPNFTX12A67020455</td>\n",
       "      <td>ARE8GLF1187FB52532</td>\n",
       "      <td>Red Hot Chili Peppers</td>\n",
       "      <td>1999</td>\n",
       "      <td>198.05995</td>\n",
       "    </tr>\n",
       "    <tr>\n",
       "      <th>2</th>\n",
       "      <td>The Greeting Song (Album Version)</td>\n",
       "      <td>SOQLJFO12A6D4F7503</td>\n",
       "      <td>ARE8GLF1187FB52532</td>\n",
       "      <td>Red Hot Chili Peppers</td>\n",
       "      <td>1991</td>\n",
       "      <td>193.43628</td>\n",
       "    </tr>\n",
       "    <tr>\n",
       "      <th>3</th>\n",
       "      <td>Naked In The Rain (Album Version)</td>\n",
       "      <td>SOBANAT12A6D4F7501</td>\n",
       "      <td>ARE8GLF1187FB52532</td>\n",
       "      <td>Red Hot Chili Peppers</td>\n",
       "      <td>1991</td>\n",
       "      <td>265.63873</td>\n",
       "    </tr>\n",
       "    <tr>\n",
       "      <th>4</th>\n",
       "      <td>Venice Queen (Album Version)</td>\n",
       "      <td>SOAZIRE12A6702046F</td>\n",
       "      <td>ARE8GLF1187FB52532</td>\n",
       "      <td>Red Hot Chili Peppers</td>\n",
       "      <td>2002</td>\n",
       "      <td>367.01995</td>\n",
       "    </tr>\n",
       "  </tbody>\n",
       "</table>\n",
       "</div>"
      ],
      "text/plain": [
       "                               title             song_id           artist_id  \\\n",
       "0        Emit Remmus (Album Version)  SONAEER12A67020459  ARE8GLF1187FB52532   \n",
       "1         Get On Top (Album Version)  SOPNFTX12A67020455  ARE8GLF1187FB52532   \n",
       "2  The Greeting Song (Album Version)  SOQLJFO12A6D4F7503  ARE8GLF1187FB52532   \n",
       "3  Naked In The Rain (Album Version)  SOBANAT12A6D4F7501  ARE8GLF1187FB52532   \n",
       "4       Venice Queen (Album Version)  SOAZIRE12A6702046F  ARE8GLF1187FB52532   \n",
       "\n",
       "                  artist  year  song_length  \n",
       "0  Red Hot Chili Peppers  1999    240.19546  \n",
       "1  Red Hot Chili Peppers  1999    198.05995  \n",
       "2  Red Hot Chili Peppers  1991    193.43628  \n",
       "3  Red Hot Chili Peppers  1991    265.63873  \n",
       "4  Red Hot Chili Peppers  2002    367.01995  "
      ]
     },
     "execution_count": 38,
     "metadata": {},
     "output_type": "execute_result"
    }
   ],
   "source": [
    "# selecting all the songs of Red Hot Chili Peppers with \\\n",
    "# the song and artist id:\n",
    "query = \"\"\"\n",
    "    SELECT s.title\n",
    "         , s.song_id\n",
    "         , a.artist_id\n",
    "         , a.name as artist\n",
    "         , s.year\n",
    "         , s.duration as song_length\n",
    "    FROM songs as s\n",
    "    JOIN artists a ON s.artist_id = a.artist_id\n",
    "    WHERE lower(a.name) = 'red hot chili peppers';\n",
    "\"\"\"\n",
    "df = pd.read_sql(query, conn)\n",
    "df\n"
   ]
  },
  {
   "cell_type": "code",
   "execution_count": 47,
   "metadata": {},
   "outputs": [
    {
     "data": {
      "text/html": [
       "<div>\n",
       "<style scoped>\n",
       "    .dataframe tbody tr th:only-of-type {\n",
       "        vertical-align: middle;\n",
       "    }\n",
       "\n",
       "    .dataframe tbody tr th {\n",
       "        vertical-align: top;\n",
       "    }\n",
       "\n",
       "    .dataframe thead th {\n",
       "        text-align: right;\n",
       "    }\n",
       "</style>\n",
       "<table border=\"1\" class=\"dataframe\">\n",
       "  <thead>\n",
       "    <tr style=\"text-align: right;\">\n",
       "      <th></th>\n",
       "      <th>year</th>\n",
       "      <th>nunique_users</th>\n",
       "    </tr>\n",
       "  </thead>\n",
       "  <tbody>\n",
       "    <tr>\n",
       "      <th>0</th>\n",
       "      <td>2018</td>\n",
       "      <td>22</td>\n",
       "    </tr>\n",
       "  </tbody>\n",
       "</table>\n",
       "</div>"
      ],
      "text/plain": [
       "   year  nunique_users\n",
       "0  2018             22"
      ]
     },
     "execution_count": 47,
     "metadata": {},
     "output_type": "execute_result"
    }
   ],
   "source": [
    "# counting the number of unique users that played songs \\\n",
    "# from a given artist_id\n",
    "query = \"\"\"\n",
    "    SELECT t.year, \n",
    "           count(distinct s.user_id) as nunique_users\n",
    "    FROM songplay as s\n",
    "    JOIN time as t ON s.start_time = t.start_time\n",
    "    WHERE s.artist_id = 'AR5E44Z1187B9A1D74'\n",
    "    GROUP BY t.year;\n",
    "\"\"\"\n",
    "df = pd.read_sql(query, conn)\n",
    "df\n"
   ]
  },
  {
   "cell_type": "markdown",
   "metadata": {},
   "source": [
    "### Closing Connection"
   ]
  },
  {
   "cell_type": "code",
   "execution_count": 48,
   "metadata": {},
   "outputs": [],
   "source": [
    "# close connection\n",
    "conn.close()"
   ]
  },
  {
   "cell_type": "markdown",
   "metadata": {},
   "source": [
    "# Deletes Cluster and Role"
   ]
  },
  {
   "cell_type": "code",
   "execution_count": 17,
   "metadata": {},
   "outputs": [
    {
     "name": "stderr",
     "output_type": "stream",
     "text": [
      "INFO:spam.auxiliary.ConfigureRedshift:Deleting Cluster\n"
     ]
    }
   ],
   "source": [
    "# delete cluster\n",
    "configurer.delete_cluster()"
   ]
  },
  {
   "cell_type": "code",
   "execution_count": 18,
   "metadata": {},
   "outputs": [
    {
     "name": "stderr",
     "output_type": "stream",
     "text": [
      "INFO:spam.auxiliary.ConfigureRedshift:Deleting Role\n"
     ]
    }
   ],
   "source": [
    "# delete role\n",
    "configurer.delete_role()"
   ]
  },
  {
   "cell_type": "code",
   "execution_count": null,
   "metadata": {},
   "outputs": [],
   "source": []
  }
 ],
 "metadata": {
  "interpreter": {
   "hash": "c0f97e6508b2a63d7812d2d3d1884e63b5817ddcd7103f02161aa1e61d2339ee"
  },
  "kernelspec": {
   "display_name": "Python 3.10.0 64-bit ('env_labs': venv)",
   "language": "python",
   "name": "python3"
  },
  "language_info": {
   "codemirror_mode": {
    "name": "ipython",
    "version": 3
   },
   "file_extension": ".py",
   "mimetype": "text/x-python",
   "name": "python",
   "nbconvert_exporter": "python",
   "pygments_lexer": "ipython3",
   "version": "3.10.0"
  },
  "orig_nbformat": 4
 },
 "nbformat": 4,
 "nbformat_minor": 2
}
