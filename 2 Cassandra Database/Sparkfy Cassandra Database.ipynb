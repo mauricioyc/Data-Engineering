{
 "cells": [
  {
   "cell_type": "markdown",
   "metadata": {
    "editable": true
   },
   "source": [
    "# Sparkfy Database in Cassandra\n",
    "\n",
    "A fictitious company called Sparkify wants to analyze their music streaming app data and better undertand who are their users and what they are listening to. In this projet, the following steps will be followed:\n",
    "\n",
    "- 1 Processing the music, artist and user library containing app data and create a new csv with a sample of the processed data\n",
    "- 2 Creating the tables optimized to answer the business questions\n",
    "- 3 Inserting the data in the correspoding table\n",
    "- 4 Selecting the data in the tables to evaluate the complete process\n",
    "- 5 Droping the tables and closing connection"
   ]
  },
  {
   "cell_type": "markdown",
   "metadata": {
    "editable": true
   },
   "source": [
    "## 1 Processing the music, artist and user library containing app data and create a new csv with a sample of the processed data"
   ]
  },
  {
   "cell_type": "markdown",
   "metadata": {
    "editable": true
   },
   "source": [
    "#### Import Python packages "
   ]
  },
  {
   "cell_type": "code",
   "execution_count": 1,
   "metadata": {
    "editable": true
   },
   "outputs": [],
   "source": [
    "# Import Python packages \n",
    "import pandas as pd\n",
    "import cassandra\n",
    "import re\n",
    "import os\n",
    "import glob\n",
    "import numpy as np\n",
    "import json\n",
    "import csv"
   ]
  },
  {
   "cell_type": "markdown",
   "metadata": {
    "editable": true
   },
   "source": [
    "#### Creating list of filepaths to process original event csv data files"
   ]
  },
  {
   "cell_type": "code",
   "execution_count": 2,
   "metadata": {
    "editable": true
   },
   "outputs": [
    {
     "name": "stdout",
     "output_type": "stream",
     "text": [
      "/home/workspace\n",
      "['/home/workspace/event_data/2018-11-27-events.csv', '/home/workspace/event_data/2018-11-04-events.csv', '/home/workspace/event_data/2018-11-07-events.csv', '/home/workspace/event_data/2018-11-09-events.csv', '/home/workspace/event_data/2018-11-19-events.csv', '/home/workspace/event_data/2018-11-05-events.csv', '/home/workspace/event_data/2018-11-22-events.csv', '/home/workspace/event_data/2018-11-16-events.csv', '/home/workspace/event_data/2018-11-26-events.csv', '/home/workspace/event_data/2018-11-24-events.csv', '/home/workspace/event_data/2018-11-29-events.csv', '/home/workspace/event_data/2018-11-15-events.csv', '/home/workspace/event_data/2018-11-20-events.csv', '/home/workspace/event_data/2018-11-06-events.csv', '/home/workspace/event_data/2018-11-18-events.csv', '/home/workspace/event_data/2018-11-21-events.csv', '/home/workspace/event_data/2018-11-10-events.csv', '/home/workspace/event_data/2018-11-23-events.csv', '/home/workspace/event_data/2018-11-02-events.csv', '/home/workspace/event_data/2018-11-28-events.csv', '/home/workspace/event_data/2018-11-03-events.csv', '/home/workspace/event_data/2018-11-13-events.csv', '/home/workspace/event_data/2018-11-30-events.csv', '/home/workspace/event_data/2018-11-12-events.csv', '/home/workspace/event_data/2018-11-01-events.csv', '/home/workspace/event_data/2018-11-14-events.csv', '/home/workspace/event_data/2018-11-25-events.csv', '/home/workspace/event_data/2018-11-08-events.csv', '/home/workspace/event_data/2018-11-17-events.csv', '/home/workspace/event_data/2018-11-11-events.csv']\n"
     ]
    }
   ],
   "source": [
    "# checking your current working directory\n",
    "print(os.getcwd())\n",
    "\n",
    "# Get your current folder and subfolder event data\n",
    "filepath = os.getcwd() + '/event_data'\n",
    "\n",
    "# Create a for loop to create a list of files and collect each filepath\n",
    "for root, dirs, files in os.walk(filepath):\n",
    "    \n",
    "# join the file path and roots with the subdirectories using glob\n",
    "    file_path_list = glob.glob(os.path.join(root,'*'))\n",
    "    print(file_path_list)"
   ]
  },
  {
   "cell_type": "markdown",
   "metadata": {
    "editable": true
   },
   "source": [
    "#### Processing the files to create the data file csv that will be used for Apache Casssandra tables"
   ]
  },
  {
   "cell_type": "code",
   "execution_count": 3,
   "metadata": {
    "editable": true
   },
   "outputs": [
    {
     "name": "stdout",
     "output_type": "stream",
     "text": [
      "8056\n"
     ]
    }
   ],
   "source": [
    "# initiating an empty list of rows that will be generated from each file\n",
    "full_data_rows_list = [] \n",
    "    \n",
    "# for every filepath in the file path list \n",
    "for f in file_path_list:\n",
    "\n",
    "# reading csv file \n",
    "    with open(f, 'r', encoding = 'utf8', newline='') as csvfile: \n",
    "        # creating a csv reader object \n",
    "        csvreader = csv.reader(csvfile) \n",
    "        next(csvreader)\n",
    "        \n",
    " # extracting each data row one by one and append it        \n",
    "        for line in csvreader:\n",
    "            full_data_rows_list.append(line) \n",
    "            \n",
    "# original data total number of rows \n",
    "print(len(full_data_rows_list))\n",
    "\n",
    "# creating a smaller event data csv file called event_datafile_new csv that will be used to insert data into the \\\n",
    "# Apache Cassandra tables\n",
    "csv.register_dialect('myDialect', quoting=csv.QUOTE_ALL, skipinitialspace=True)\n",
    "\n",
    "with open('event_datafile_new.csv', 'w', encoding = 'utf8', newline='') as f:\n",
    "    writer = csv.writer(f, dialect='myDialect')\n",
    "    writer.writerow(['artist','firstName','gender','itemInSession','lastName','length',\\\n",
    "                'level','location','sessionId','song','userId'])\n",
    "    for row in full_data_rows_list:\n",
    "        if (row[0] == ''):\n",
    "            continue\n",
    "        writer.writerow((row[0], row[2], row[3], row[4], row[5], row[6], row[7], row[8], row[12], row[13], row[16]))"
   ]
  },
  {
   "cell_type": "code",
   "execution_count": 4,
   "metadata": {
    "editable": true
   },
   "outputs": [
    {
     "name": "stdout",
     "output_type": "stream",
     "text": [
      "6821\n"
     ]
    }
   ],
   "source": [
    "# check the number of rows in your csv file\n",
    "with open('event_datafile_new.csv', 'r', encoding = 'utf8') as f:\n",
    "    print(sum(1 for line in f))"
   ]
  },
  {
   "cell_type": "markdown",
   "metadata": {
    "editable": true
   },
   "source": [
    "### The csv sample event_datafile_new.csv contains the following columns: \n",
    "\n",
    "- artist \n",
    "- firstName of user\n",
    "- gender of user\n",
    "- item number in session\n",
    "- last name of user\n",
    "- length of the song\n",
    "- level (paid or free song)\n",
    "- location of the user\n",
    "- sessionId\n",
    "- song title\n",
    "- userId\n",
    "\n",
    "The image below is a screenshot of what the denormalized data should appear like in the <font color=red>**event_datafile_new.csv**</font> after the code above is run:<br>\n",
    "\n",
    "<img src=\"images/image_event_datafile_new.jpg\">"
   ]
  },
  {
   "cell_type": "markdown",
   "metadata": {
    "editable": true
   },
   "source": [
    "## 2 Creating the tables optimized to answer the business questions"
   ]
  },
  {
   "cell_type": "markdown",
   "metadata": {
    "editable": true
   },
   "source": [
    "#### Creating a Cluster"
   ]
  },
  {
   "cell_type": "code",
   "execution_count": 5,
   "metadata": {
    "editable": true
   },
   "outputs": [],
   "source": [
    "# This should make a connection to a Cassandra instance your local machine \n",
    "from cassandra.cluster import Cluster\n",
    "try: \n",
    "    cluster = Cluster(['127.0.0.1'])\n",
    "    \n",
    "    # To establish connection and begin executing queries, need a session\n",
    "    session = cluster.connect()\n",
    "except Exception as e:\n",
    "    print(e)"
   ]
  },
  {
   "cell_type": "markdown",
   "metadata": {
    "editable": true
   },
   "source": [
    "#### Create Keyspace"
   ]
  },
  {
   "cell_type": "code",
   "execution_count": 6,
   "metadata": {
    "editable": true
   },
   "outputs": [],
   "source": [
    "# Create a Keyspace\n",
    "try:\n",
    "    session.execute(\"\"\"\n",
    "    CREATE KEYSPACE IF NOT EXISTS sparkfy \n",
    "    WITH REPLICATION = \n",
    "    { 'class' : 'SimpleStrategy', 'replication_factor' : 3 }\"\"\"\n",
    ")\n",
    "\n",
    "except Exception as e:\n",
    "    print(e)"
   ]
  },
  {
   "cell_type": "markdown",
   "metadata": {
    "editable": true
   },
   "source": [
    "#### Set Keyspace"
   ]
  },
  {
   "cell_type": "code",
   "execution_count": 7,
   "metadata": {
    "editable": true
   },
   "outputs": [],
   "source": [
    "# Set KEYSPACE to sparkfy\n",
    "try:\n",
    "    session.set_keyspace('sparkfy')\n",
    "except Exception as e:\n",
    "    print(e)"
   ]
  },
  {
   "cell_type": "markdown",
   "metadata": {
    "editable": true
   },
   "source": [
    "### We want to answer the followind business questions:\n",
    "\n",
    "#### 1. Give me the artist, song title and song's length in the music app history that was heard during  sessionId = 338, and itemInSession  = 4\n",
    "`SELECT artist_name, song_title, song_length FROM sessions WHERE session_id = 338 AND item_in_session = 4`\n",
    "\n",
    "#### 2. Give me only the following: name of artist, song (sorted by itemInSession) and user (first and last name) for userid = 10, sessionid = 182\n",
    "`SELECT artist_name, song_title (sorted by item_in_session), user_first_name, user_last_name FROM user_library WHERE user_id = 10 AND session_id = 182`\n",
    "\n",
    "#### 3. Give me every user name (first and last) in my music app history who listened to the song 'All Hands Against His Own'\n",
    "`SELECT user_first_name, user_last_name FROM music_library WHERE song_title = 'All Hands Against His Own'`\n"
   ]
  },
  {
   "cell_type": "code",
   "execution_count": 8,
   "metadata": {
    "editable": true
   },
   "outputs": [],
   "source": [
    "# -------------------------------------------------------------------------------------------------------------- #\n",
    "# In this scenario, the best approach is to create a table for each query, giving that they are filtering and \\\n",
    "# ordering the data in a different way. Also, in Cassandra it is not a bad strategy to create individual tables \\\n",
    "# for each query.\n",
    "# -------------------------------------------------------------------------------------------------------------- #\n",
    "\n",
    "# -------------------------------------------------------------------------------------------------------------- #\n",
    "# Query 1: \"SELECT artist_name, song_title, song_length FROM sessions WHERE session_id=338 AND item_in_session=4\"\n",
    "# PRIMARY KEY: session_id, item_in_session\n",
    "#\n",
    "# PARTITIONING KEY: session_id  -> it will always be in the where and hopfully can distribute the data evenly.\n",
    "#\n",
    "# CLUSTERING KEY: item_in_session -> it will also be in the where clause and makes the PK unique.\n",
    "# -------------------------------------------------------------------------------------------------------------- #\n",
    "query1 = \"\"\"CREATE TABLE IF NOT EXISTS sessions (\n",
    "                session_id int, \n",
    "                item_in_session int, \n",
    "                artist_name text, \n",
    "                song_title text,\n",
    "                song_length float,\n",
    "                PRIMARY KEY (session_id, item_in_session)\n",
    ")\"\"\"\n",
    "try:\n",
    "    session.execute(query1)\n",
    "except Exception as e:\n",
    "    print(e)\n",
    "\n",
    "# -------------------------------------------------------------------------------------------------------------- #\n",
    "# Query 2: \"SELECT artist_name, song_title (sorted by item_in_session), user_first_name, user_last_name FROM \\\n",
    "# user_library WHERE user_id=10 AND session_id=182\"\n",
    "#\n",
    "# PRIMARY KEY: (user_id, session_id), item_in_session\n",
    "#\n",
    "# PARTITIONING KEY: user_id, session_id  -> since the user_id is a 1:N relationship with session_id and both \\\n",
    "# columns will be in the where clause, it is reasonable to use them as a PK, given that the addition of the \\\n",
    "# user_id will not mess with the data distribution through the nodes.\n",
    "#\n",
    "# CLUSTERING KEY: item_in_session -> it will sort the songs and make the PK unique\n",
    "# -------------------------------------------------------------------------------------------------------------- #\n",
    "query2 = \"\"\"CREATE TABLE IF NOT EXISTS user_library (\n",
    "                user_id int,\n",
    "                session_id int, \n",
    "                item_in_session int, \n",
    "                artist_name text,\n",
    "                song_title text,\n",
    "                user_first_name text,\n",
    "                user_last_name text,\n",
    "                PRIMARY KEY ((user_id, session_id), item_in_session)\n",
    ")\"\"\"\n",
    "try:\n",
    "    session.execute(query2)\n",
    "except Exception as e:\n",
    "    print(e)\n",
    "\n",
    "# -------------------------------------------------------------------------------------------------------------- #\n",
    "# Query 3: \"SELECT user_first_name, user_last_name FROM music_library WHERE song_title='All Hands Against His Own'\"\n",
    "#\n",
    "# PRIMARY KEY: song_title, user_id -> the analysis here is just to retrieve unique users for a giving song, \\\n",
    "# the PK needs to be unique only for these two columns\n",
    "#\n",
    "# PARTITIONING KEY: song_title  -> since the song_title will always be in the where clause.\n",
    "#\n",
    "# CLUSTERING KEY: user_id -> to make users unique for each song\n",
    "# -------------------------------------------------------------------------------------------------------------- #\n",
    "query3 = \"\"\"CREATE TABLE IF NOT EXISTS music_library (\n",
    "                user_id int, \n",
    "                user_first_name text,\n",
    "                user_last_name text,\n",
    "                song_title text,\n",
    "                PRIMARY KEY (song_title, user_id)\n",
    ")\"\"\"\n",
    "try:\n",
    "    session.execute(query3)\n",
    "except Exception as e:\n",
    "    print(e)"
   ]
  },
  {
   "cell_type": "markdown",
   "metadata": {
    "editable": true
   },
   "source": [
    "## 3 Inserting the data in the correspoding table"
   ]
  },
  {
   "cell_type": "code",
   "execution_count": 9,
   "metadata": {
    "editable": true
   },
   "outputs": [],
   "source": [
    "# -------------------------------------------------------------------------------------------------------------- #\n",
    "# Each row will be read once and inserted in each corresponding table\n",
    "# -------------------------------------------------------------------------------------------------------------- #\n",
    "\n",
    "# file with the data to be inserted\n",
    "file = 'event_datafile_new.csv'\n",
    "\n",
    "# reading and processing each line of the csv\n",
    "with open(file, encoding = 'utf8') as f:\n",
    "    csvreader = csv.reader(f)\n",
    "    next(csvreader) # skip header\n",
    "    for line in csvreader:\n",
    "        \n",
    "        # variables from the csv line\n",
    "        artist_name = str(line[0])\n",
    "        user_first_name = str(line[1])\n",
    "        item_in_session = int(line[3])\n",
    "        user_last_name = str(line[4])\n",
    "        song_length = float(line[5])\n",
    "        session_id = int(line[8])\n",
    "        song_title = str(line[9])\n",
    "        user_id = int(line[10])\n",
    "        \n",
    "        # QUERY 1 insert statement\n",
    "        query1 = \"INSERT INTO sessions (session_id, item_in_session, artist_name, song_title, song_length)\"\n",
    "        query1 = query1 + \" VALUES (%s, %s, %s, %s, %s)\"\n",
    "        session.execute(query1, (session_id, item_in_session, artist_name, song_title, song_length))\n",
    "        \n",
    "        # QUERY 2 insert statement\n",
    "        query2 = \"INSERT INTO user_library (user_id, session_id, item_in_session, artist_name, song_title, user_first_name, user_last_name)\"\n",
    "        query2 = query2 + \" VALUES (%s, %s, %s, %s, %s, %s, %s)\"\n",
    "        session.execute(query2, (user_id, session_id, item_in_session, artist_name, song_title, user_first_name, user_last_name))\n",
    "\n",
    "        # QUERY 3 insert statement\n",
    "        query3 = \"INSERT INTO music_library (user_id, user_first_name, user_last_name, song_title)\"\n",
    "        query3 = query3 + \" VALUES (%s, %s, %s, %s)\"\n",
    "        session.execute(query3, (user_id, user_first_name, user_last_name, song_title))     "
   ]
  },
  {
   "cell_type": "markdown",
   "metadata": {
    "editable": true
   },
   "source": [
    "## 4 Selecting the data in the tables to evaluate the complete process"
   ]
  },
  {
   "cell_type": "code",
   "execution_count": 10,
   "metadata": {
    "editable": true
   },
   "outputs": [],
   "source": [
    "# -------------------------------------------------------------------------------------------------------------- #\n",
    "# Creating an auxiliar function to transform the query results into a pandas DataFrame\n",
    "# -------------------------------------------------------------------------------------------------------------- #\n",
    "\n",
    "def df_from_query(query:str) -> pd.DataFrame:\n",
    "    \"\"\"\n",
    "    Executes a given SELECT query and return the result in a DataFrame\n",
    "        Args:\n",
    "            query: Query with a SELECT statement\n",
    "\n",
    "        Returns:\n",
    "            pd.DataFrame: A table with the query result\n",
    "    \"\"\"\n",
    "    # sending the query\n",
    "    rows = session.execute(query)\n",
    "    \n",
    "    # getting queried column names\n",
    "    columns = rows.column_names\n",
    "    \n",
    "    # transforming result in a dataframe\n",
    "    df = pd.DataFrame()\n",
    "    for row in rows:\n",
    "        df = df.append(pd.Series(row, columns), ignore_index=True)\n",
    "\n",
    "    return df\n"
   ]
  },
  {
   "cell_type": "code",
   "execution_count": 11,
   "metadata": {
    "editable": true
   },
   "outputs": [
    {
     "data": {
      "text/html": [
       "<div>\n",
       "<style scoped>\n",
       "    .dataframe tbody tr th:only-of-type {\n",
       "        vertical-align: middle;\n",
       "    }\n",
       "\n",
       "    .dataframe tbody tr th {\n",
       "        vertical-align: top;\n",
       "    }\n",
       "\n",
       "    .dataframe thead th {\n",
       "        text-align: right;\n",
       "    }\n",
       "</style>\n",
       "<table border=\"1\" class=\"dataframe\">\n",
       "  <thead>\n",
       "    <tr style=\"text-align: right;\">\n",
       "      <th></th>\n",
       "      <th>artist_name</th>\n",
       "      <th>song_length</th>\n",
       "      <th>song_title</th>\n",
       "    </tr>\n",
       "  </thead>\n",
       "  <tbody>\n",
       "    <tr>\n",
       "      <th>0</th>\n",
       "      <td>Faithless</td>\n",
       "      <td>495.307312</td>\n",
       "      <td>Music Matters (Mark Knight Dub)</td>\n",
       "    </tr>\n",
       "  </tbody>\n",
       "</table>\n",
       "</div>"
      ],
      "text/plain": [
       "  artist_name  song_length                       song_title\n",
       "0   Faithless   495.307312  Music Matters (Mark Knight Dub)"
      ]
     },
     "execution_count": 11,
     "metadata": {},
     "output_type": "execute_result"
    }
   ],
   "source": [
    "# Query 1: \"SELECT artist_name, song_title, song_length FROM sessions WHERE session_id=338 AND item_in_session=4\"\n",
    "query1 = \"\"\"\n",
    "    SELECT artist_name\n",
    "         , song_title\n",
    "         , song_length\n",
    "    FROM sessions\n",
    "    WHERE session_id = 338\n",
    "          AND item_in_session = 4\n",
    "\"\"\"\n",
    "\n",
    "df = df_from_query(query1)\n",
    "df"
   ]
  },
  {
   "cell_type": "code",
   "execution_count": 12,
   "metadata": {
    "editable": true
   },
   "outputs": [
    {
     "data": {
      "text/html": [
       "<div>\n",
       "<style scoped>\n",
       "    .dataframe tbody tr th:only-of-type {\n",
       "        vertical-align: middle;\n",
       "    }\n",
       "\n",
       "    .dataframe tbody tr th {\n",
       "        vertical-align: top;\n",
       "    }\n",
       "\n",
       "    .dataframe thead th {\n",
       "        text-align: right;\n",
       "    }\n",
       "</style>\n",
       "<table border=\"1\" class=\"dataframe\">\n",
       "  <thead>\n",
       "    <tr style=\"text-align: right;\">\n",
       "      <th></th>\n",
       "      <th>artist_name</th>\n",
       "      <th>song_title</th>\n",
       "      <th>user_first_name</th>\n",
       "      <th>user_last_name</th>\n",
       "    </tr>\n",
       "  </thead>\n",
       "  <tbody>\n",
       "    <tr>\n",
       "      <th>0</th>\n",
       "      <td>Down To The Bone</td>\n",
       "      <td>Keep On Keepin' On</td>\n",
       "      <td>Sylvie</td>\n",
       "      <td>Cruz</td>\n",
       "    </tr>\n",
       "    <tr>\n",
       "      <th>1</th>\n",
       "      <td>Three Drives</td>\n",
       "      <td>Greece 2000</td>\n",
       "      <td>Sylvie</td>\n",
       "      <td>Cruz</td>\n",
       "    </tr>\n",
       "    <tr>\n",
       "      <th>2</th>\n",
       "      <td>Sebastien Tellier</td>\n",
       "      <td>Kilometer</td>\n",
       "      <td>Sylvie</td>\n",
       "      <td>Cruz</td>\n",
       "    </tr>\n",
       "    <tr>\n",
       "      <th>3</th>\n",
       "      <td>Lonnie Gordon</td>\n",
       "      <td>Catch You Baby (Steve Pitron &amp; Max Sanna Radio...</td>\n",
       "      <td>Sylvie</td>\n",
       "      <td>Cruz</td>\n",
       "    </tr>\n",
       "  </tbody>\n",
       "</table>\n",
       "</div>"
      ],
      "text/plain": [
       "         artist_name                                         song_title  \\\n",
       "0   Down To The Bone                                 Keep On Keepin' On   \n",
       "1       Three Drives                                        Greece 2000   \n",
       "2  Sebastien Tellier                                          Kilometer   \n",
       "3      Lonnie Gordon  Catch You Baby (Steve Pitron & Max Sanna Radio...   \n",
       "\n",
       "  user_first_name user_last_name  \n",
       "0          Sylvie           Cruz  \n",
       "1          Sylvie           Cruz  \n",
       "2          Sylvie           Cruz  \n",
       "3          Sylvie           Cruz  "
      ]
     },
     "execution_count": 12,
     "metadata": {},
     "output_type": "execute_result"
    }
   ],
   "source": [
    "# Query 2: \"SELECT artist_name, song_title (sorted by item_in_session), user_first_name, user_last_name FROM \\\n",
    "# user_library WHERE user_id=10 AND session_id=182\n",
    "query2 = \"\"\"\n",
    "    SELECT artist_name\n",
    "         , song_title\n",
    "         , user_first_name \n",
    "         , user_last_name\n",
    "    FROM user_library\n",
    "    WHERE user_id = 10\n",
    "          AND session_id = 182\n",
    "\"\"\"\n",
    "df = df_from_query(query2)\n",
    "df"
   ]
  },
  {
   "cell_type": "code",
   "execution_count": 13,
   "metadata": {
    "editable": true
   },
   "outputs": [
    {
     "data": {
      "text/html": [
       "<div>\n",
       "<style scoped>\n",
       "    .dataframe tbody tr th:only-of-type {\n",
       "        vertical-align: middle;\n",
       "    }\n",
       "\n",
       "    .dataframe tbody tr th {\n",
       "        vertical-align: top;\n",
       "    }\n",
       "\n",
       "    .dataframe thead th {\n",
       "        text-align: right;\n",
       "    }\n",
       "</style>\n",
       "<table border=\"1\" class=\"dataframe\">\n",
       "  <thead>\n",
       "    <tr style=\"text-align: right;\">\n",
       "      <th></th>\n",
       "      <th>user_first_name</th>\n",
       "      <th>user_last_name</th>\n",
       "    </tr>\n",
       "  </thead>\n",
       "  <tbody>\n",
       "    <tr>\n",
       "      <th>0</th>\n",
       "      <td>Jacqueline</td>\n",
       "      <td>Lynch</td>\n",
       "    </tr>\n",
       "    <tr>\n",
       "      <th>1</th>\n",
       "      <td>Tegan</td>\n",
       "      <td>Levine</td>\n",
       "    </tr>\n",
       "    <tr>\n",
       "      <th>2</th>\n",
       "      <td>Sara</td>\n",
       "      <td>Johnson</td>\n",
       "    </tr>\n",
       "  </tbody>\n",
       "</table>\n",
       "</div>"
      ],
      "text/plain": [
       "  user_first_name user_last_name\n",
       "0      Jacqueline          Lynch\n",
       "1           Tegan         Levine\n",
       "2            Sara        Johnson"
      ]
     },
     "execution_count": 13,
     "metadata": {},
     "output_type": "execute_result"
    }
   ],
   "source": [
    "# Query 3: \"SELECT user_first_name, user_last_name FROM music_library WHERE song_title='All Hands Against His Own'\"\n",
    "query3 = \"\"\"\n",
    "    SELECT user_first_name\n",
    "         , user_last_name\n",
    "    FROM music_library\n",
    "    WHERE song_title = 'All Hands Against His Own'\n",
    "\"\"\"\n",
    "df = df_from_query(query3)\n",
    "df"
   ]
  },
  {
   "cell_type": "markdown",
   "metadata": {
    "editable": true
   },
   "source": [
    "## 5 Droping the tables and closing connection"
   ]
  },
  {
   "cell_type": "code",
   "execution_count": 14,
   "metadata": {
    "editable": true
   },
   "outputs": [
    {
     "name": "stdout",
     "output_type": "stream",
     "text": [
      "drop table sessions\n",
      "drop table user_library\n",
      "drop table music_library\n"
     ]
    }
   ],
   "source": [
    "# Dropping all the tables created\n",
    "queries = [\"drop table sessions\", \"drop table user_library\", \"drop table music_library\"]\n",
    "\n",
    "for query in queries:\n",
    "    print(query)\n",
    "    try:\n",
    "        rows = session.execute(query)\n",
    "    except Exception as e:\n",
    "        print(e)"
   ]
  },
  {
   "cell_type": "markdown",
   "metadata": {
    "editable": true
   },
   "source": [
    "### Close the session and cluster connection¶"
   ]
  },
  {
   "cell_type": "code",
   "execution_count": 15,
   "metadata": {
    "editable": true
   },
   "outputs": [],
   "source": [
    "session.shutdown()\n",
    "cluster.shutdown()"
   ]
  },
  {
   "cell_type": "code",
   "execution_count": null,
   "metadata": {
    "editable": true
   },
   "outputs": [],
   "source": []
  }
 ],
 "metadata": {
  "kernelspec": {
   "display_name": "Python 3",
   "language": "python",
   "name": "python3"
  },
  "language_info": {
   "codemirror_mode": {
    "name": "ipython",
    "version": 3
   },
   "file_extension": ".py",
   "mimetype": "text/x-python",
   "name": "python",
   "nbconvert_exporter": "python",
   "pygments_lexer": "ipython3",
   "version": "3.6.3"
  }
 },
 "nbformat": 4,
 "nbformat_minor": 4
}
